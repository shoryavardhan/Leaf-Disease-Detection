{
 "cells": [
  {
   "cell_type": "code",
   "execution_count": null,
   "metadata": {},
   "outputs": [],
   "source": [
    "import numpy as np\n",
    "import pandas as pd\n",
    "import os\n",
    "import string\n",
    "from sklearn import svm\n",
    "from sklearn.neighbors import KNeighborsClassifier\n",
    "import cv2\n",
    "import mahotas as mt\n",
    "from matplotlib import pyplot as plt\n",
    "import string\n",
    "%matplotlib inline"
   ]
  },
  {
   "cell_type": "code",
   "execution_count": null,
   "metadata": {},
   "outputs": [],
   "source": [
    "dataset = pd.read_csv(\"train_features.csv\")\n",
    "maindir = \"/home/khanna/Desktop/54_ML_in_agricultural_domain/Datasets\"\n",
    "ds_path = maindir + \"/19000\"\n",
    "img_files = os.listdir(ds_path)"
   ]
  },
  {
   "cell_type": "code",
   "execution_count": null,
   "metadata": {},
   "outputs": [],
   "source": [
    "breakpoints = [1,2475,2476,4627,4628,19087]target_list = []\n",
    "for j in range(1,19087):\n",
    "    target_num = j\n",
    "    print(target_num)\n",
    "    flag = 0\n",
    "    i = 0 \n",
    "    for i in range(0,len(breakpoints),2):\n",
    "        if((target_num >= breakpoints[i]) and (target_num <= breakpoints[i+1])):\n",
    "            flag = 1\n",
    "            break\n",
    "    if(flag==1):\n",
    "        target = int((i/2))\n",
    "        target_list.append(target)"
   ]
  },
  {
   "cell_type": "code",
   "execution_count": null,
   "metadata": {},
   "outputs": [],
   "source": [
    "y = np.asarray(target_list)\n",
    "X = dataset.iloc[:,1:]"
   ]
  },
  {
   "cell_type": "code",
   "execution_count": null,
   "metadata": {},
   "outputs": [],
   "source": [
    "y"
   ]
  },
  {
   "cell_type": "code",
   "execution_count": null,
   "metadata": {},
   "outputs": [],
   "source": [
    "X.head()"
   ]
  },
  {
   "cell_type": "code",
   "execution_count": null,
   "metadata": {},
   "outputs": [],
   "source": [
    "from sklearn.model_selection import train_test_split\n",
    "X_train, X_test, y_train, y_test = train_test_split(X, y, test_size=0.25, random_state = 142)"
   ]
  },
  {
   "cell_type": "code",
   "execution_count": null,
   "metadata": {},
   "outputs": [],
   "source": [
    "from sklearn.preprocessing import StandardScaler\n",
    "sc_X = StandardScaler()\n",
    "X_train = sc_X.fit_transform(X_train)\n",
    "X_test = sc_X.transform(X_test)"
   ]
  },
  {
   "cell_type": "code",
   "execution_count": null,
   "metadata": {},
   "outputs": [],
   "source": [
    "clf = None\n",
    "knn = None\n",
    "def svm_gs():\n",
    "    global clf\n",
    "    clf = svm.SVC()\n",
    "    clf.fit(X_train,y_train)\n",
    "    y_pred = clf.predict(X_test)\n",
    "\n",
    "    from sklearn import metrics\n",
    "#     print(\"SVM metrics:\")\n",
    "#     print(metrics.classification_report(y_test, y_pred))\n",
    "#    print(\"SVM Accuracy:\",metrics.accuracy_score(y_test, y_pred))\n",
    "\n",
    "    from sklearn.model_selection import GridSearchCV\n",
    "\n",
    "    parameters = [{'kernel': ['rbf'],\n",
    "                   'gamma': [1e-4, 1e-3, 0.01, 0.1, 0.2, 0.5],\n",
    "                   'C': [1, 10, 100, 1000]},\n",
    "                  {'kernel': ['linear'], 'C': [1, 10, 100, 1000]}\n",
    "                 ]\n",
    "\n",
    "\n",
    "    svm_clf = GridSearchCV(svm.SVC(decision_function_shape='ovr'), parameters, cv=5)\n",
    "    svm_clf.fit(X_train, y_train)\n",
    "\n",
    "    y_pred_svm = svm_clf.predict(X_test)\n",
    "\n",
    "#     y_pred_svm\n",
    "\n",
    "#     print(\"Grid Search Metrics:\")\n",
    "#     print(metrics.classification_report(y_test, y_pred_svm))\n",
    "    print(\"Grid Search Accuracy:\",metrics.accuracy_score(y_test, y_pred_svm))\n",
    "\n",
    "def knn():\n",
    "    global knn;\n",
    "    knn = KNeighborsClassifier(n_neighbors = 7).fit(X_train, y_train)\n",
    "    accuracy = knn.score(X_test, y_test) \n",
    "    y_pred=knn.predict(X_test)\n",
    "    print(y_pred)\n",
    "    from sklearn import metrics\n",
    "#     print(\"KNN Metrics:\")\n",
    "#     print(metrics.classification_report(y_test, y_pred))\n",
    "    print (\"KNN Accuracy:\", accuracy) "
   ]
  },
  {
   "cell_type": "code",
   "execution_count": null,
   "metadata": {},
   "outputs": [],
   "source": [
    "svm_gs()\n",
    "knn()"
   ]
  },
  {
   "cell_type": "code",
   "execution_count": null,
   "metadata": {},
   "outputs": [],
   "source": [
    "X_query = [b]"
   ]
  },
  {
   "cell_type": "code",
   "execution_count": null,
   "metadata": {},
   "outputs": [],
   "source": [
    "def svm_calc(array):\n",
    "    global clf\n",
    "    ans=clf.predict(array)\n",
    "    return ans\n",
    "def knn_calc(array):\n",
    "    global knn\n",
    "    ans= knn.predict(array)\n",
    "    return ans"
   ]
  },
  {
   "cell_type": "code",
   "execution_count": null,
   "metadata": {},
   "outputs": [],
   "source": [
    "def identify(): \n",
    "    if(ans==0):\n",
    "      str =\"Bell Pepper\"\n",
    "    elif(ans==1):\n",
    "      str=\"Potato\" \n",
    "    else:\n",
    "      str=\"Tomato\"\n",
    "    return str"
   ]
  },
  {
   "cell_type": "code",
   "execution_count": null,
   "metadata": {},
   "outputs": [],
   "source": [
    "ans = svm_calc(X_query)\n",
    "ans = knn_calc(X_query)\n",
    "mainAns= identify()"
   ]
  }
 ],
 "metadata": {
  "kernelspec": {
   "display_name": "Python 3",
   "language": "python",
   "name": "python3"
  },
  "language_info": {
   "codemirror_mode": {
    "name": "ipython",
    "version": 3
   },
   "file_extension": ".py",
   "mimetype": "text/x-python",
   "name": "python",
   "nbconvert_exporter": "python",
   "pygments_lexer": "ipython3",
   "version": "3.7.4"
  }
 },
 "nbformat": 4,
 "nbformat_minor": 2
}
